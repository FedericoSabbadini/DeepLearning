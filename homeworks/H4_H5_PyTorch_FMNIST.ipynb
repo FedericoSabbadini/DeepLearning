{
  "cells": [
    {
      "cell_type": "markdown",
      "metadata": {
        "id": "view-in-github",
        "colab_type": "text"
      },
      "source": [
        "<a href=\"https://colab.research.google.com/github/FedericoSabbadini/DeepLearning/blob/main/homeworks/H4_H5_PyTorch_FMNIST.ipynb\" target=\"_parent\"><img src=\"https://colab.research.google.com/assets/colab-badge.svg\" alt=\"Open In Colab\"/></a>"
      ]
    },
    {
      "cell_type": "markdown",
      "metadata": {
        "id": "7j1tdlYcDIFU"
      },
      "source": [
        "# Dataset Analysis\n"
      ]
    },
    {
      "cell_type": "code",
      "execution_count": 1,
      "metadata": {
        "execution": {
          "iopub.execute_input": "2022-02-05T02:23:03.661948Z",
          "iopub.status.busy": "2022-02-05T02:23:03.661380Z",
          "iopub.status.idle": "2022-02-05T02:23:06.352001Z",
          "shell.execute_reply": "2022-02-05T02:23:06.352451Z"
        },
        "id": "dzLKpmZICaWN"
      },
      "outputs": [],
      "source": [
        "# PyTorch\n",
        "import torch\n",
        "from torch import nn\n",
        "\n",
        "# Helper libraries\n",
        "import numpy as np\n",
        "import matplotlib.pyplot as plt\n",
        "import random"
      ]
    },
    {
      "cell_type": "code",
      "source": [
        "!pip install optuna"
      ],
      "metadata": {
        "id": "h7rpfV0V1wm_",
        "outputId": "1e55ff33-0fd1-4bfd-9f24-6366823ea75a",
        "colab": {
          "base_uri": "https://localhost:8080/"
        }
      },
      "execution_count": 30,
      "outputs": [
        {
          "output_type": "stream",
          "name": "stdout",
          "text": [
            "Collecting optuna\n",
            "  Downloading optuna-4.5.0-py3-none-any.whl.metadata (17 kB)\n",
            "Requirement already satisfied: alembic>=1.5.0 in /usr/local/lib/python3.12/dist-packages (from optuna) (1.17.0)\n",
            "Collecting colorlog (from optuna)\n",
            "  Downloading colorlog-6.10.1-py3-none-any.whl.metadata (11 kB)\n",
            "Requirement already satisfied: numpy in /usr/local/lib/python3.12/dist-packages (from optuna) (2.0.2)\n",
            "Requirement already satisfied: packaging>=20.0 in /usr/local/lib/python3.12/dist-packages (from optuna) (25.0)\n",
            "Requirement already satisfied: sqlalchemy>=1.4.2 in /usr/local/lib/python3.12/dist-packages (from optuna) (2.0.44)\n",
            "Requirement already satisfied: tqdm in /usr/local/lib/python3.12/dist-packages (from optuna) (4.67.1)\n",
            "Requirement already satisfied: PyYAML in /usr/local/lib/python3.12/dist-packages (from optuna) (6.0.3)\n",
            "Requirement already satisfied: Mako in /usr/local/lib/python3.12/dist-packages (from alembic>=1.5.0->optuna) (1.3.10)\n",
            "Requirement already satisfied: typing-extensions>=4.12 in /usr/local/lib/python3.12/dist-packages (from alembic>=1.5.0->optuna) (4.15.0)\n",
            "Requirement already satisfied: greenlet>=1 in /usr/local/lib/python3.12/dist-packages (from sqlalchemy>=1.4.2->optuna) (3.2.4)\n",
            "Requirement already satisfied: MarkupSafe>=0.9.2 in /usr/local/lib/python3.12/dist-packages (from Mako->alembic>=1.5.0->optuna) (3.0.3)\n",
            "Downloading optuna-4.5.0-py3-none-any.whl (400 kB)\n",
            "\u001b[2K   \u001b[90m━━━━━━━━━━━━━━━━━━━━━━━━━━━━━━━━━━━━━━━━\u001b[0m \u001b[32m400.9/400.9 kB\u001b[0m \u001b[31m4.8 MB/s\u001b[0m eta \u001b[36m0:00:00\u001b[0m\n",
            "\u001b[?25hDownloading colorlog-6.10.1-py3-none-any.whl (11 kB)\n",
            "Installing collected packages: colorlog, optuna\n",
            "Successfully installed colorlog-6.10.1 optuna-4.5.0\n"
          ]
        }
      ]
    },
    {
      "cell_type": "markdown",
      "metadata": {
        "id": "yR0EdgrLCaWR"
      },
      "source": [
        "## Import the Fashion MNIST dataset"
      ]
    },
    {
      "cell_type": "markdown",
      "metadata": {
        "id": "DLdCchMdCaWQ"
      },
      "source": [
        "This guide uses the [Fashion MNIST](https://github.com/zalandoresearch/fashion-mnist) dataset which contains 70,000 grayscale images in 10 categories. The images show individual articles of clothing at low resolution (28 by 28 pixels), as seen here:\n",
        "\n",
        "<table>\n",
        "  <tr><td>\n",
        "    <img src=\"https://tensorflow.org/images/fashion-mnist-sprite.png\"\n",
        "         alt=\"Fashion MNIST sprite\"  width=\"600\">\n",
        "  </td></tr>\n",
        "  <tr><td align=\"center\">\n",
        "    <b>Figure 1.</b> <a href=\"https://github.com/zalandoresearch/fashion-mnist\">Fashion-MNIST samples</a> (by Zalando, MIT License).<br/>&nbsp;\n",
        "  </td></tr>\n",
        "</table>\n",
        "\n",
        "Fashion MNIST is intended as a drop-in replacement for the classic [MNIST](http://yann.lecun.com/exdb/mnist/) dataset—often used as the \"Hello, World\" of machine learning programs for computer vision. The MNIST dataset contains images of handwritten digits (0, 1, 2, etc.) in a format identical to that of the articles of clothing you'll use here.\n",
        "\n",
        "This guide uses Fashion MNIST for variety, and because it's a slightly more challenging problem than regular MNIST. Both datasets are relatively small and are used to verify that an algorithm works as expected. They're good starting points to test and debug code.\n",
        "\n",
        "Here, 60,000 images are used to train the network and 10,000 images to evaluate how accurately the network learned to classify images. You can access the Fashion MNIST directly from PyTorch through *torchvision* library."
      ]
    },
    {
      "cell_type": "code",
      "execution_count": 2,
      "metadata": {
        "colab": {
          "base_uri": "https://localhost:8080/"
        },
        "execution": {
          "iopub.execute_input": "2022-02-05T02:23:06.357055Z",
          "iopub.status.busy": "2022-02-05T02:23:06.356498Z",
          "iopub.status.idle": "2022-02-05T02:23:08.243268Z",
          "shell.execute_reply": "2022-02-05T02:23:08.243667Z"
        },
        "id": "7MqDQO0KCaWS",
        "outputId": "17b7dc29-763d-496c-ef7f-fc0af340bd0f"
      },
      "outputs": [
        {
          "output_type": "stream",
          "name": "stderr",
          "text": [
            "100%|██████████| 26.4M/26.4M [00:03<00:00, 6.87MB/s]\n",
            "100%|██████████| 29.5k/29.5k [00:00<00:00, 100kB/s]\n",
            "100%|██████████| 4.42M/4.42M [00:01<00:00, 2.33MB/s]\n",
            "100%|██████████| 5.15k/5.15k [00:00<00:00, 10.5MB/s]\n"
          ]
        }
      ],
      "source": [
        "# Loading the Fashion-MNIST dataset\n",
        "from torchvision import datasets, transforms\n",
        "\n",
        "\n",
        "# Download and load the training data\n",
        "\n",
        "transform = transforms.Compose([transforms.ToTensor()])\n",
        "\n",
        "# datasets\n",
        "trainset = datasets.FashionMNIST('./data',\n",
        "    download=True,\n",
        "    train=True,\n",
        "    transform=transform)\n",
        "\n",
        "testset = datasets.FashionMNIST('./data',\n",
        "    download=True,\n",
        "    train=False,\n",
        "    transform=transform)"
      ]
    },
    {
      "cell_type": "code",
      "execution_count": 3,
      "metadata": {
        "execution": {
          "iopub.execute_input": "2022-02-05T02:23:08.248025Z",
          "iopub.status.busy": "2022-02-05T02:23:08.247468Z",
          "iopub.status.idle": "2022-02-05T02:23:08.249506Z",
          "shell.execute_reply": "2022-02-05T02:23:08.249073Z"
        },
        "id": "IjnLH5S2CaWx"
      },
      "outputs": [],
      "source": [
        "class_names = ['T-shirt/top', 'Trouser', 'Pullover', 'Dress', 'Coat',\n",
        "               'Sandal', 'Shirt', 'Sneaker', 'Bag', 'Ankle boot']"
      ]
    },
    {
      "cell_type": "markdown",
      "metadata": {
        "id": "RkiQqJR4h5VL"
      },
      "source": [
        "## Import and wrap the Fashion MNIST dataset\n",
        "\n",
        "A good practice when using PyTorch is to extend the *Dataset* class to better manage data. Every subclasses must extend the following methods:\n",
        "\n",
        "*   **\\_\\_init\\_\\_** : class constructor, here are specified the data and the parameters;\n",
        "*   **\\_\\_getitem\\_\\_**: method called implicit later by the *dataloader* to pass the data to the model;\n",
        "*   **\\_\\_len\\_\\_**: method that specify the length of the dataset;\n",
        "\n",
        "Other methods can be added to better manage the data.\n"
      ]
    },
    {
      "cell_type": "code",
      "execution_count": 4,
      "metadata": {
        "id": "C4Sg5LYviAlS"
      },
      "outputs": [],
      "source": [
        "from torch.utils.data import Dataset\n",
        "\n",
        "class FashionDataset(Dataset):\n",
        "\n",
        "    def __init__(self, data):\n",
        "        self.images = [i.squeeze(0) for i, l in data]\n",
        "        self.labels = [l for i, l in data]\n",
        "\n",
        "        self.class_names = ['T-shirt/top', 'Trouser', 'Pullover', 'Dress', 'Coat',\n",
        "                            'Sandal', 'Shirt', 'Sneaker', 'Bag', 'Ankle boot']\n",
        "\n",
        "\n",
        "    def __getitem__(self, index):\n",
        "        label = self.labels[index]\n",
        "        image = self.images[index]\n",
        "\n",
        "        return image, label\n",
        "\n",
        "    def __len__(self):\n",
        "        return len(self.images)\n",
        "\n",
        "    def get_labels(self):\n",
        "        return self.labels\n",
        "\n",
        "    def get_name(self, label):\n",
        "        return self.class_names[label]\n",
        "\n",
        "    def get_images(self):\n",
        "        return self.images"
      ]
    },
    {
      "cell_type": "code",
      "execution_count": 5,
      "metadata": {
        "execution": {
          "iopub.execute_input": "2022-02-05T02:23:06.357055Z",
          "iopub.status.busy": "2022-02-05T02:23:06.356498Z",
          "iopub.status.idle": "2022-02-05T02:23:08.243268Z",
          "shell.execute_reply": "2022-02-05T02:23:08.243667Z"
        },
        "id": "zZf282W7h5VM"
      },
      "outputs": [],
      "source": [
        "dataset_train = FashionDataset(trainset)\n",
        "dataset_test = FashionDataset(testset)"
      ]
    },
    {
      "cell_type": "markdown",
      "metadata": {
        "id": "pQKVf-Y-h5VT"
      },
      "source": [
        "## Build the model\n",
        "\n",
        "Following the PyTorch best practice, a model is built by extending the `nn.Module` class. Even in this case every subclasses have to extend the following methods:\n",
        "\n",
        "*   **\\_\\_init\\_\\_**: class constructor, here are specified the layers of the model;\n",
        "*   **forward**: method that rapresent the forward pass of the model\n",
        "\n",
        "Methods for wrapping training, evaluation and prediction operation can be added in this class.\n",
        "\n"
      ]
    },
    {
      "cell_type": "markdown",
      "metadata": {
        "id": "bbp7r2d8dO7X"
      },
      "source": [
        "# Homework 4: Implement in Pytorch the following keral model:"
      ]
    },
    {
      "cell_type": "markdown",
      "metadata": {
        "id": "rmKr8pd-c4Lt"
      },
      "source": [
        "\n",
        "\n",
        "---\n",
        "\n",
        "\n",
        "inputs = layers.Input(shape=(28,28))\n",
        "\n",
        "flatten = layers.Flatten(input_shape=(28, 28))(inputs)\n",
        "\n",
        "dense_1=layers.Dense(200, activation='relu')(flatten)\n",
        "\n",
        "dense_2=layers.Dense(50, activation='relu')(dense_1)\n",
        "\n",
        "skip = layers.concatenate([dense_1, dense_2])\n",
        "\n",
        "dense_3=layers.Dense(50, activation='relu')(skip)\n",
        "\n",
        "dense_4=layers.Dense(50, activation='relu')(dense_3)\n",
        "\n",
        "dense_5=layers.Dense(50, activation='relu')(dense_4)\n",
        "\n",
        "outputs=layers.Dense(10)(dense_5)\n",
        "\n",
        "model = keras.Model(inputs=inputs, outputs=outputs, name=\"mnist_model\")\n"
      ]
    },
    {
      "cell_type": "markdown",
      "metadata": {
        "id": "pxnbL6UDdVX7"
      },
      "source": [
        "\n",
        "model.compile(optimizer='adam',\n",
        "              loss=tf.keras.losses.SparseCategoricalCrossentropy(from_logits=True), metrics=['accuracy'])\n",
        "\n",
        "\n",
        "---\n",
        "\n"
      ]
    },
    {
      "cell_type": "markdown",
      "metadata": {
        "id": "XiKb20UldqlF"
      },
      "source": [
        "Replace the #TODO comments\n",
        "\n",
        "You can also have a look at https://colab.research.google.com/github/serivan/DeepLearning/blob/master/Keras/PyTorch_FMNIST.ipynb"
      ]
    },
    {
      "cell_type": "markdown",
      "metadata": {
        "id": "oyZAPkGdeS9C"
      },
      "source": [
        "# PyTorch code"
      ]
    },
    {
      "cell_type": "code",
      "execution_count": 15,
      "metadata": {
        "id": "Xa60H_tUlCTu"
      },
      "outputs": [],
      "source": [
        "from tqdm import tqdm\n",
        "\n",
        "class FashionModel(nn.Module):\n",
        "\n",
        "    def __init__(self):\n",
        "        super(FashionModel, self).__init__()\n",
        "        self.flatten = nn.Flatten()\n",
        "        self.dense_1 = nn.Linear(784, 200)\n",
        "        self.dense_2 = nn.Linear(200, 50)\n",
        "        self.dense_3 = nn.Linear(250, 50)\n",
        "        self.dense_4 = nn.Linear(50, 50)\n",
        "        self.dense_5 = nn.Linear(50, 50)\n",
        "        self.output = nn.Linear(50, 10)\n",
        "        self.relu = nn.ReLU()\n",
        "\n",
        "\n",
        "    def forward(self, img):\n",
        "        x = self.flatten(img)\n",
        "\n",
        "        d1 = self.relu(self.dense_1(x))\n",
        "        d2 = self.relu(self.dense_2(d1))\n",
        "\n",
        "        skip = torch.cat([d1, d2], dim=1)\n",
        "\n",
        "        d3 = self.relu(self.dense_3(skip))\n",
        "        d4 = self.relu(self.dense_4(d3))\n",
        "        d5 = self.relu(self.dense_5(d4))\n",
        "\n",
        "        x = self.output(d5)\n",
        "\n",
        "        return x\n",
        "\n",
        "\n",
        "    def train_classifier(self, dataloader, epochs, criterion, optimizer, device):\n",
        "        train_loss = []\n",
        "        train_accs = []\n",
        "\n",
        "        for ep in range(epochs):\n",
        "            self.train()\n",
        "            running_loss = 0.0\n",
        "            acc = 0\n",
        "            total = 0\n",
        "\n",
        "            for it, (images, labels) in enumerate(tqdm(dataloader)):\n",
        "                images = images.to(device)\n",
        "                labels = labels.to(device)\n",
        "\n",
        "                optimizer.zero_grad()\n",
        "\n",
        "                outputs = self.forward(images)\n",
        "                loss = criterion(outputs, labels)\n",
        "\n",
        "                loss.backward()\n",
        "                optimizer.step()\n",
        "\n",
        "                running_loss += loss.item()\n",
        "\n",
        "                _, predicted = torch.max(outputs.data, 1)\n",
        "                total += labels.size(0)\n",
        "                acc += (predicted == labels).sum().item()\n",
        "\n",
        "            epoch_loss = running_loss/len(train_loader)\n",
        "            train_loss.append(epoch_loss)\n",
        "\n",
        "            epoch_acc = acc*100/total\n",
        "            train_accs.append(epoch_acc)\n",
        "\n",
        "            print(f\"Epoch {ep+1}: Loss {round(epoch_loss, 3)} - Accuracy {round(epoch_acc, 2)}%\")\n",
        "\n",
        "        return train_loss, train_accs\n",
        "\n",
        "\n",
        "    def eval_classifier(self, dataloader, device):\n",
        "        self.eval()\n",
        "        val_acc = 0\n",
        "        total = 0  # Initialize total here\n",
        "\n",
        "        for it, (images, labels) in enumerate(tqdm(dataloader)):\n",
        "            images = images.to(device)\n",
        "            labels = labels.to(device)\n",
        "\n",
        "            with torch.no_grad():\n",
        "                outputs = self.forward(images)\n",
        "                _, predicted = torch.max(outputs.data, 1)\n",
        "                total += labels.size(0)\n",
        "                val_acc += (predicted == labels).sum().item()\n",
        "\n",
        "        print(f\"\\nTrained model Accuracy on testset: {round(val_acc*100/total, 3)}%\")\n",
        "\n",
        "\n",
        "    def predict(self, dataloader, device):\n",
        "        self.eval()\n",
        "        softmax = nn.Softmax(dim=1)\n",
        "\n",
        "        predictions = []\n",
        "        for it, (images, labels) in enumerate(tqdm(dataloader)):\n",
        "\n",
        "            with torch.no_grad():\n",
        "                images = images.to(device)\n",
        "\n",
        "                logits = self.forward(images)\n",
        "                preds = softmax(logits)\n",
        "\n",
        "                predictions.append(preds.detach().cpu().numpy()[0])\n",
        "\n",
        "        return predictions"
      ]
    },
    {
      "cell_type": "code",
      "execution_count": 17,
      "metadata": {
        "colab": {
          "base_uri": "https://localhost:8080/"
        },
        "execution": {
          "iopub.execute_input": "2022-02-05T02:23:09.515540Z",
          "iopub.status.busy": "2022-02-05T02:23:09.514954Z",
          "iopub.status.idle": "2022-02-05T02:23:11.016295Z",
          "shell.execute_reply": "2022-02-05T02:23:11.015745Z"
        },
        "id": "abP5puLth5VU",
        "outputId": "b65b5be0-e77f-4dff-877f-5231264cafa0"
      },
      "outputs": [
        {
          "output_type": "stream",
          "name": "stdout",
          "text": [
            "FashionModel(\n",
            "  (flatten): Flatten(start_dim=1, end_dim=-1)\n",
            "  (dense_1): Linear(in_features=784, out_features=200, bias=True)\n",
            "  (dense_2): Linear(in_features=200, out_features=50, bias=True)\n",
            "  (dense_3): Linear(in_features=250, out_features=50, bias=True)\n",
            "  (dense_4): Linear(in_features=50, out_features=50, bias=True)\n",
            "  (dense_5): Linear(in_features=50, out_features=50, bias=True)\n",
            "  (output): Linear(in_features=50, out_features=10, bias=True)\n",
            "  (relu): ReLU()\n",
            ")\n"
          ]
        }
      ],
      "source": [
        "device = torch.device(\"cuda:0\" if torch.cuda.is_available() else \"cpu\")\n",
        "\n",
        "model =  FashionModel().to(device)\n",
        "\n",
        "print(model)"
      ]
    },
    {
      "cell_type": "code",
      "execution_count": 18,
      "metadata": {
        "execution": {
          "iopub.execute_input": "2022-02-05T02:23:11.032563Z",
          "iopub.status.busy": "2022-02-05T02:23:11.031996Z",
          "iopub.status.idle": "2022-02-05T02:23:45.127248Z",
          "shell.execute_reply": "2022-02-05T02:23:45.126760Z"
        },
        "id": "3J4-vSTDh5VW"
      },
      "outputs": [],
      "source": [
        "from torch import optim\n",
        "\n",
        "optimizer = optim.Adam(model.parameters(), lr=0.001)\n",
        "criterion = nn.CrossEntropyLoss()\n",
        "\n",
        "batch_size = 64\n",
        "\n",
        "train_loader = torch.utils.data.DataLoader(dataset_train, batch_size=batch_size)\n",
        "test_loader = torch.utils.data.DataLoader(dataset_test, batch_size=1)\n",
        "\n",
        "epochs = 10"
      ]
    },
    {
      "cell_type": "code",
      "execution_count": 19,
      "metadata": {
        "colab": {
          "base_uri": "https://localhost:8080/"
        },
        "id": "cabS3B-fq1fh",
        "outputId": "6a9500de-cf66-4441-b494-acae5bc6895b"
      },
      "outputs": [
        {
          "output_type": "stream",
          "name": "stderr",
          "text": [
            "100%|██████████| 938/938 [00:05<00:00, 158.64it/s]\n"
          ]
        },
        {
          "output_type": "stream",
          "name": "stdout",
          "text": [
            "Epoch 1: Loss 0.642 - Accuracy 76.54%\n"
          ]
        },
        {
          "output_type": "stream",
          "name": "stderr",
          "text": [
            "100%|██████████| 938/938 [00:07<00:00, 133.94it/s]\n"
          ]
        },
        {
          "output_type": "stream",
          "name": "stdout",
          "text": [
            "Epoch 2: Loss 0.417 - Accuracy 84.8%\n"
          ]
        },
        {
          "output_type": "stream",
          "name": "stderr",
          "text": [
            "100%|██████████| 938/938 [00:06<00:00, 155.26it/s]\n"
          ]
        },
        {
          "output_type": "stream",
          "name": "stdout",
          "text": [
            "Epoch 3: Loss 0.363 - Accuracy 86.62%\n"
          ]
        },
        {
          "output_type": "stream",
          "name": "stderr",
          "text": [
            "100%|██████████| 938/938 [00:06<00:00, 139.22it/s]\n"
          ]
        },
        {
          "output_type": "stream",
          "name": "stdout",
          "text": [
            "Epoch 4: Loss 0.331 - Accuracy 87.77%\n"
          ]
        },
        {
          "output_type": "stream",
          "name": "stderr",
          "text": [
            "100%|██████████| 938/938 [00:06<00:00, 154.31it/s]\n"
          ]
        },
        {
          "output_type": "stream",
          "name": "stdout",
          "text": [
            "Epoch 5: Loss 0.31 - Accuracy 88.36%\n"
          ]
        },
        {
          "output_type": "stream",
          "name": "stderr",
          "text": [
            "100%|██████████| 938/938 [00:06<00:00, 134.70it/s]\n"
          ]
        },
        {
          "output_type": "stream",
          "name": "stdout",
          "text": [
            "Epoch 6: Loss 0.293 - Accuracy 89.03%\n"
          ]
        },
        {
          "output_type": "stream",
          "name": "stderr",
          "text": [
            "100%|██████████| 938/938 [00:06<00:00, 151.97it/s]\n"
          ]
        },
        {
          "output_type": "stream",
          "name": "stdout",
          "text": [
            "Epoch 7: Loss 0.281 - Accuracy 89.39%\n"
          ]
        },
        {
          "output_type": "stream",
          "name": "stderr",
          "text": [
            "100%|██████████| 938/938 [00:07<00:00, 133.70it/s]\n"
          ]
        },
        {
          "output_type": "stream",
          "name": "stdout",
          "text": [
            "Epoch 8: Loss 0.268 - Accuracy 89.87%\n"
          ]
        },
        {
          "output_type": "stream",
          "name": "stderr",
          "text": [
            "100%|██████████| 938/938 [00:06<00:00, 155.80it/s]\n"
          ]
        },
        {
          "output_type": "stream",
          "name": "stdout",
          "text": [
            "Epoch 9: Loss 0.257 - Accuracy 90.24%\n"
          ]
        },
        {
          "output_type": "stream",
          "name": "stderr",
          "text": [
            "100%|██████████| 938/938 [00:06<00:00, 136.38it/s]"
          ]
        },
        {
          "output_type": "stream",
          "name": "stdout",
          "text": [
            "Epoch 10: Loss 0.249 - Accuracy 90.65%\n"
          ]
        },
        {
          "output_type": "stream",
          "name": "stderr",
          "text": [
            "\n"
          ]
        }
      ],
      "source": [
        "train_loss, train_accs = model.train_classifier(train_loader, epochs, criterion, optimizer, device)"
      ]
    },
    {
      "cell_type": "code",
      "execution_count": 20,
      "metadata": {
        "colab": {
          "base_uri": "https://localhost:8080/",
          "height": 472
        },
        "id": "tR2f7jrph5VX",
        "outputId": "124592e6-0c00-48ed-9350-dba3ee5ac67b"
      },
      "outputs": [
        {
          "output_type": "display_data",
          "data": {
            "text/plain": [
              "<Figure size 640x480 with 1 Axes>"
            ],
            "image/png": "[encoded data removed]"
          },
          "metadata": {}
        }
      ],
      "source": [
        "plt.plot(range(epochs), train_loss)\n",
        "plt.xlabel(\"No. of Epoch\")\n",
        "plt.ylabel(\"Loss\")\n",
        "plt.title(\"Training Loss\")\n",
        "plt.show()"
      ]
    },
    {
      "cell_type": "code",
      "execution_count": 21,
      "metadata": {
        "colab": {
          "base_uri": "https://localhost:8080/",
          "height": 472
        },
        "id": "dpohl8Ljh5VX",
        "outputId": "c8e3ec75-f20f-4b91-a67c-de2fd0ea5a64"
      },
      "outputs": [
        {
          "output_type": "display_data",
          "data": {
            "text/plain": [
              "<Figure size 640x480 with 1 Axes>"
            ],
            "image/png": "[encoded data removed]"
          },
          "metadata": {}
        }
      ],
      "source": [
        "plt.plot(range(epochs), train_accs)\n",
        "\n",
        "plt.xlabel(\"No. of Epoch\")\n",
        "plt.ylabel(\"Accuracy %\")\n",
        "plt.title(\"Training Accuracy\")\n",
        "plt.show()"
      ]
    },
    {
      "cell_type": "markdown",
      "metadata": {
        "id": "lvFn5OQbh5VY"
      },
      "source": [
        "### Evaluate accuracy\n",
        "\n",
        "Next, compare how the model performs on the test dataset:"
      ]
    },
    {
      "cell_type": "code",
      "execution_count": 22,
      "metadata": {
        "colab": {
          "base_uri": "https://localhost:8080/"
        },
        "execution": {
          "iopub.execute_input": "2022-02-05T02:23:45.796585Z",
          "iopub.status.busy": "2022-02-05T02:23:45.796041Z",
          "iopub.status.idle": "2022-02-05T02:23:46.217066Z",
          "shell.execute_reply": "2022-02-05T02:23:46.217474Z"
        },
        "id": "8ZU35qSNh5Vd",
        "outputId": "6aae2996-c0d4-409f-c993-b73bf1a70df8"
      },
      "outputs": [
        {
          "output_type": "stream",
          "name": "stderr",
          "text": [
            "100%|██████████| 10000/10000 [00:04<00:00, 2251.52it/s]"
          ]
        },
        {
          "output_type": "stream",
          "name": "stdout",
          "text": [
            "\n",
            "Trained model Accuracy on testset: 87.75%\n"
          ]
        },
        {
          "output_type": "stream",
          "name": "stderr",
          "text": [
            "\n"
          ]
        }
      ],
      "source": [
        "model.eval_classifier(test_loader, device)"
      ]
    },
    {
      "cell_type": "markdown",
      "metadata": {
        "id": "TmWxqEiuh5Vc"
      },
      "source": [
        "### Make predictions\n",
        "\n",
        "With the model trained, you can use it to make predictions about some images.\n",
        "Attach a softmax layer to convert the model's linear outputs—[logits](https://developers.google.com/machine-learning/glossary#logits)—to probabilities, which should be easier to interpret."
      ]
    },
    {
      "cell_type": "code",
      "execution_count": 23,
      "metadata": {
        "colab": {
          "base_uri": "https://localhost:8080/"
        },
        "id": "5H4Q9tgoIofW",
        "outputId": "bfe9bb2b-3da5-4192-96f2-684c4b253973"
      },
      "outputs": [
        {
          "output_type": "stream",
          "name": "stderr",
          "text": [
            "100%|██████████| 10000/10000 [00:04<00:00, 2075.54it/s]\n"
          ]
        }
      ],
      "source": [
        "predictions = model.predict(test_loader, device)"
      ]
    },
    {
      "cell_type": "markdown",
      "metadata": {
        "id": "UYHi3oQ1h5Vh"
      },
      "source": [
        "Graph this to look at the full set of 10 class predictions."
      ]
    },
    {
      "cell_type": "code",
      "execution_count": 24,
      "metadata": {
        "execution": {
          "iopub.execute_input": "2022-02-05T02:23:46.244767Z",
          "iopub.status.busy": "2022-02-05T02:23:46.244181Z",
          "iopub.status.idle": "2022-02-05T02:23:46.246387Z",
          "shell.execute_reply": "2022-02-05T02:23:46.245908Z"
        },
        "id": "CBSZb7zqh5Vh"
      },
      "outputs": [],
      "source": [
        "def plot_image(i, predictions_array, true_label, img):\n",
        "  true_label, img = true_label[i], img[i]\n",
        "  plt.grid(False)\n",
        "  plt.xticks([])\n",
        "  plt.yticks([])\n",
        "\n",
        "  plt.imshow(img, cmap=plt.cm.binary)\n",
        "\n",
        "  predicted_label = np.argmax(predictions_array)\n",
        "  if predicted_label == true_label:\n",
        "    color = 'blue'\n",
        "  else:\n",
        "    color = 'red'\n",
        "\n",
        "  plt.xlabel(\"{} {:2.0f}% ({})\".format(class_names[predicted_label],\n",
        "                                100*np.max(predictions_array),\n",
        "                                class_names[true_label]),\n",
        "                                color=color)\n",
        "\n",
        "def plot_value_array(i, predictions_array, true_label):\n",
        "  true_label = true_label[i]\n",
        "  plt.grid(False)\n",
        "  plt.xticks(range(10))\n",
        "  plt.yticks([])\n",
        "  thisplot = plt.bar(range(10), predictions_array, color=\"#777777\")\n",
        "  plt.ylim([0, 1])\n",
        "  predicted_label = np.argmax(predictions_array)\n",
        "\n",
        "  thisplot[predicted_label].set_color('red')\n",
        "  thisplot[true_label].set_color('blue')"
      ]
    },
    {
      "cell_type": "markdown",
      "metadata": {
        "id": "xzF3BtSUh5Vh"
      },
      "source": [
        "### Verify predictions\n",
        "\n",
        "With the model trained, you can use it to make predictions about some images."
      ]
    },
    {
      "cell_type": "markdown",
      "metadata": {
        "id": "KUOFq6MGh5Vi"
      },
      "source": [
        "Let's look at the 0th image, predictions, and prediction array. Correct prediction labels are blue and incorrect prediction labels are red. The number gives the percentage (out of 100) for the predicted label."
      ]
    },
    {
      "cell_type": "code",
      "execution_count": 25,
      "metadata": {
        "id": "C8oRugJbh5Vi"
      },
      "outputs": [],
      "source": [
        "test_images = dataset_test.get_images()\n",
        "test_labels = dataset_test.get_labels()"
      ]
    },
    {
      "cell_type": "code",
      "execution_count": 26,
      "metadata": {
        "colab": {
          "base_uri": "https://localhost:8080/",
          "height": 291
        },
        "execution": {
          "iopub.execute_input": "2022-02-05T02:23:46.285608Z",
          "iopub.status.busy": "2022-02-05T02:23:46.285071Z",
          "iopub.status.idle": "2022-02-05T02:23:46.364057Z",
          "shell.execute_reply": "2022-02-05T02:23:46.364410Z"
        },
        "id": "cPrgpl7Sh5Vi",
        "outputId": "890e15ec-4c28-49b3-c027-b013f50e84f7"
      },
      "outputs": [
        {
          "output_type": "display_data",
          "data": {
            "text/plain": [
              "<Figure size 600x300 with 2 Axes>"
            ],
            "image/png": "[encoded data removed]"
          },
          "metadata": {}
        }
      ],
      "source": [
        "i = 0\n",
        "plt.figure(figsize=(6,3))\n",
        "plt.subplot(1,2,1)\n",
        "plot_image(i, predictions[i], test_labels, test_images)\n",
        "plt.subplot(1,2,2)\n",
        "plot_value_array(i, predictions[i],  test_labels)\n",
        "plt.show()"
      ]
    },
    {
      "cell_type": "code",
      "execution_count": 27,
      "metadata": {
        "colab": {
          "base_uri": "https://localhost:8080/",
          "height": 291
        },
        "execution": {
          "iopub.execute_input": "2022-02-05T02:23:46.395590Z",
          "iopub.status.busy": "2022-02-05T02:23:46.386856Z",
          "iopub.status.idle": "2022-02-05T02:23:46.477744Z",
          "shell.execute_reply": "2022-02-05T02:23:46.478119Z"
        },
        "id": "KdUPxDQVh5Vj",
        "outputId": "5141bf8e-f000-4e7e-e88b-1b6e37feaa87"
      },
      "outputs": [
        {
          "output_type": "display_data",
          "data": {
            "text/plain": [
              "<Figure size 600x300 with 2 Axes>"
            ],
            "image/png": "[encoded data removed]"
          },
          "metadata": {}
        }
      ],
      "source": [
        "i = 12\n",
        "plt.figure(figsize=(6,3))\n",
        "plt.subplot(1,2,1)\n",
        "plot_image(i, predictions[i], test_labels, test_images)\n",
        "plt.subplot(1,2,2)\n",
        "plot_value_array(i, predictions[i],  test_labels)\n",
        "plt.show()"
      ]
    },
    {
      "cell_type": "code",
      "execution_count": 28,
      "metadata": {
        "colab": {
          "base_uri": "https://localhost:8080/",
          "height": 1000
        },
        "execution": {
          "iopub.execute_input": "2022-02-05T02:23:46.495208Z",
          "iopub.status.busy": "2022-02-05T02:23:46.494656Z",
          "iopub.status.idle": "2022-02-05T02:23:48.120493Z",
          "shell.execute_reply": "2022-02-05T02:23:48.120884Z"
        },
        "id": "EmBvopABh5Vk",
        "outputId": "c155771c-b832-4172-88e3-981e785d0797"
      },
      "outputs": [
        {
          "output_type": "display_data",
          "data": {
            "text/plain": [
              "<Figure size 1200x1000 with 30 Axes>"
            ],
            "image/png": "[encoded data removed]"
          },
          "metadata": {}
        }
      ],
      "source": [
        "# Plot the first X test images, their predicted labels, and the true labels.\n",
        "# Color correct predictions in blue and incorrect predictions in red.\n",
        "num_rows = 5\n",
        "num_cols = 3\n",
        "num_images = num_rows*num_cols\n",
        "plt.figure(figsize=(2*2*num_cols, 2*num_rows))\n",
        "for i in range(num_images):\n",
        "  plt.subplot(num_rows, 2*num_cols, 2*i+1)\n",
        "  plot_image(i, predictions[i], test_labels, test_images)\n",
        "  plt.subplot(num_rows, 2*num_cols, 2*i+2)\n",
        "  plot_value_array(i, predictions[i], test_labels)\n",
        "plt.tight_layout()\n",
        "plt.show()"
      ]
    },
    {
      "cell_type": "markdown",
      "source": [
        "# Homework 5: PyTorch with CNNs\n",
        "\n",
        "Solve the same problem with PyTorch using CNNs and compare the results; use also optuna."
      ],
      "metadata": {
        "id": "3TNKwBgac4hB"
      }
    },
    {
      "cell_type": "code",
      "source": [
        "import torch\n",
        "from torch import nn, optim\n",
        "from tqdm import tqdm\n",
        "\n",
        "class FashionCNN(nn.Module):\n",
        "    def __init__(self):\n",
        "        super(FashionCNN, self).__init__()\n",
        "\n",
        "        self.conv1 = nn.Conv2d(1, 32, kernel_size=3, padding=1)\n",
        "        self.conv2 = nn.Conv2d(32, 64, kernel_size=3, padding=1)\n",
        "        self.pool = nn.MaxPool2d(2, 2)\n",
        "        self.dropout = nn.Dropout(0.3)\n",
        "\n",
        "        self.fc1 = nn.Linear(64 * 7 * 7, 128)\n",
        "        self.fc2 = nn.Linear(128, 10)\n",
        "        self.relu = nn.ReLU()\n",
        "\n",
        "    def forward(self, x):\n",
        "        x = x.unsqueeze(1)\n",
        "\n",
        "        x = self.relu(self.conv1(x))\n",
        "        x = self.pool(x)\n",
        "\n",
        "        x = self.relu(self.conv2(x))\n",
        "        x = self.pool(x)\n",
        "\n",
        "        x = x.view(x.size(0), -1)\n",
        "\n",
        "        x = self.relu(self.fc1(x))\n",
        "        x = self.dropout(x)\n",
        "        x = self.fc2(x)\n",
        "\n",
        "        return x\n",
        "\n",
        "    def train_classifier(self, dataloader, epochs, criterion, optimizer, device):\n",
        "        self.train()\n",
        "        for ep in range(epochs):\n",
        "            running_loss = 0.0\n",
        "            correct = 0\n",
        "            total = 0\n",
        "\n",
        "            for images, labels in tqdm(dataloader, desc=f\"Epoch {ep+1}/{epochs}\"):\n",
        "                images, labels = images.to(device), labels.to(device)\n",
        "\n",
        "                optimizer.zero_grad()\n",
        "                outputs = self.forward(images)\n",
        "                loss = criterion(outputs, labels)\n",
        "                loss.backward()\n",
        "                optimizer.step()\n",
        "\n",
        "                running_loss += loss.item()\n",
        "                _, predicted = torch.max(outputs.data, 1)\n",
        "                total += labels.size(0)\n",
        "                correct += (predicted == labels).sum().item()\n",
        "\n",
        "            epoch_loss = running_loss / len(dataloader)\n",
        "            epoch_acc = 100 * correct / total\n",
        "            print(f\"Epoch {ep+1}: Loss {epoch_loss:.3f} - Accuracy {epoch_acc:.2f}%\")\n",
        "\n",
        "    def eval_classifier(self, dataloader, device):\n",
        "        self.eval()\n",
        "        correct = 0\n",
        "        total = 0\n",
        "\n",
        "        with torch.no_grad():\n",
        "            for images, labels in tqdm(dataloader):\n",
        "                images, labels = images.to(device), labels.to(device)\n",
        "                outputs = self.forward(images)\n",
        "                _, predicted = torch.max(outputs.data, 1)\n",
        "                total += labels.size(0)\n",
        "                correct += (predicted == labels).sum().item()\n",
        "\n",
        "        accuracy = 100 * correct / total\n",
        "        print(f\"\\nTrained model Accuracy on testset: {round(accuracy, 3)}%\")\n",
        "        return accuracy\n",
        "\n",
        "    def predict(self, dataloader, device):\n",
        "        self.eval()\n",
        "        softmax = nn.Softmax(dim=1)\n",
        "        predictions = []\n",
        "\n",
        "        for images, labels in tqdm(dataloader):\n",
        "            with torch.no_grad():\n",
        "                images = images.to(device)\n",
        "                logits = self.forward(images)\n",
        "                preds = softmax(logits)\n",
        "                predictions.append(preds.detach().cpu().numpy()[0])\n",
        "\n",
        "        return predictions"
      ],
      "metadata": {
        "id": "sigX9KdLc202"
      },
      "execution_count": 33,
      "outputs": []
    },
    {
      "cell_type": "code",
      "source": [
        "device = torch.device(\"cuda:0\" if torch.cuda.is_available() else \"cpu\")\n",
        "\n",
        "model_cnn = FashionCNN().to(device)\n",
        "print(model_cnn)\n",
        "\n",
        "optimizer = optim.Adam(model_cnn.parameters(), lr=0.001)\n",
        "criterion = nn.CrossEntropyLoss()\n",
        "\n",
        "batch_size = 64\n",
        "train_loader = torch.utils.data.DataLoader(dataset_train, batch_size=batch_size, shuffle=True)\n",
        "test_loader = torch.utils.data.DataLoader(dataset_test, batch_size=1)\n",
        "\n",
        "epochs = 10\n",
        "\n",
        "model_cnn.train_classifier(train_loader, epochs, criterion, optimizer, device)"
      ],
      "metadata": {
        "id": "pomF9E1B1i8y",
        "outputId": "a13b2967-b8f3-4ee3-f831-0512bd74e24b",
        "colab": {
          "base_uri": "https://localhost:8080/"
        }
      },
      "execution_count": 35,
      "outputs": [
        {
          "output_type": "stream",
          "name": "stdout",
          "text": [
            "FashionCNN(\n",
            "  (conv1): Conv2d(1, 32, kernel_size=(3, 3), stride=(1, 1), padding=(1, 1))\n",
            "  (conv2): Conv2d(32, 64, kernel_size=(3, 3), stride=(1, 1), padding=(1, 1))\n",
            "  (pool): MaxPool2d(kernel_size=2, stride=2, padding=0, dilation=1, ceil_mode=False)\n",
            "  (dropout): Dropout(p=0.3, inplace=False)\n",
            "  (fc1): Linear(in_features=3136, out_features=128, bias=True)\n",
            "  (fc2): Linear(in_features=128, out_features=10, bias=True)\n",
            "  (relu): ReLU()\n",
            ")\n"
          ]
        },
        {
          "output_type": "stream",
          "name": "stderr",
          "text": [
            "Epoch 1/10: 100%|██████████| 938/938 [01:38<00:00,  9.54it/s]\n"
          ]
        },
        {
          "output_type": "stream",
          "name": "stdout",
          "text": [
            "Epoch 1: Loss 0.529 - Accuracy 80.68%\n"
          ]
        },
        {
          "output_type": "stream",
          "name": "stderr",
          "text": [
            "Epoch 2/10: 100%|██████████| 938/938 [01:32<00:00, 10.10it/s]\n"
          ]
        },
        {
          "output_type": "stream",
          "name": "stdout",
          "text": [
            "Epoch 2: Loss 0.341 - Accuracy 87.73%\n"
          ]
        },
        {
          "output_type": "stream",
          "name": "stderr",
          "text": [
            "Epoch 3/10: 100%|██████████| 938/938 [01:28<00:00, 10.66it/s]\n"
          ]
        },
        {
          "output_type": "stream",
          "name": "stdout",
          "text": [
            "Epoch 3: Loss 0.289 - Accuracy 89.54%\n"
          ]
        },
        {
          "output_type": "stream",
          "name": "stderr",
          "text": [
            "Epoch 4/10: 100%|██████████| 938/938 [01:26<00:00, 10.88it/s]\n"
          ]
        },
        {
          "output_type": "stream",
          "name": "stdout",
          "text": [
            "Epoch 4: Loss 0.260 - Accuracy 90.56%\n"
          ]
        },
        {
          "output_type": "stream",
          "name": "stderr",
          "text": [
            "Epoch 5/10: 100%|██████████| 938/938 [01:23<00:00, 11.18it/s]\n"
          ]
        },
        {
          "output_type": "stream",
          "name": "stdout",
          "text": [
            "Epoch 5: Loss 0.236 - Accuracy 91.37%\n"
          ]
        },
        {
          "output_type": "stream",
          "name": "stderr",
          "text": [
            "Epoch 6/10: 100%|██████████| 938/938 [01:24<00:00, 11.08it/s]\n"
          ]
        },
        {
          "output_type": "stream",
          "name": "stdout",
          "text": [
            "Epoch 6: Loss 0.218 - Accuracy 91.97%\n"
          ]
        },
        {
          "output_type": "stream",
          "name": "stderr",
          "text": [
            "Epoch 7/10: 100%|██████████| 938/938 [01:27<00:00, 10.72it/s]\n"
          ]
        },
        {
          "output_type": "stream",
          "name": "stdout",
          "text": [
            "Epoch 7: Loss 0.200 - Accuracy 92.63%\n"
          ]
        },
        {
          "output_type": "stream",
          "name": "stderr",
          "text": [
            "Epoch 8/10: 100%|██████████| 938/938 [01:25<00:00, 10.94it/s]\n"
          ]
        },
        {
          "output_type": "stream",
          "name": "stdout",
          "text": [
            "Epoch 8: Loss 0.184 - Accuracy 93.25%\n"
          ]
        },
        {
          "output_type": "stream",
          "name": "stderr",
          "text": [
            "Epoch 9/10: 100%|██████████| 938/938 [01:27<00:00, 10.67it/s]\n"
          ]
        },
        {
          "output_type": "stream",
          "name": "stdout",
          "text": [
            "Epoch 9: Loss 0.171 - Accuracy 93.61%\n"
          ]
        },
        {
          "output_type": "stream",
          "name": "stderr",
          "text": [
            "Epoch 10/10: 100%|██████████| 938/938 [01:26<00:00, 10.86it/s]"
          ]
        },
        {
          "output_type": "stream",
          "name": "stdout",
          "text": [
            "Epoch 10: Loss 0.159 - Accuracy 94.02%\n"
          ]
        },
        {
          "output_type": "stream",
          "name": "stderr",
          "text": [
            "\n"
          ]
        }
      ]
    },
    {
      "cell_type": "code",
      "source": [
        "cnn_accuracy = model_cnn.eval_classifier(test_loader, device)"
      ],
      "metadata": {
        "id": "xpblXxCB5WZS",
        "outputId": "816f047c-0725-43bb-c801-35cab1a1b37c",
        "colab": {
          "base_uri": "https://localhost:8080/"
        }
      },
      "execution_count": 36,
      "outputs": [
        {
          "output_type": "stream",
          "name": "stderr",
          "text": [
            "100%|██████████| 10000/10000 [00:14<00:00, 696.06it/s]"
          ]
        },
        {
          "output_type": "stream",
          "name": "stdout",
          "text": [
            "\n",
            "Trained model Accuracy on testset: 91.87%\n"
          ]
        },
        {
          "output_type": "stream",
          "name": "stderr",
          "text": [
            "\n"
          ]
        }
      ]
    },
    {
      "cell_type": "code",
      "source": [
        "print(\"\\n=== CONFRONTO RISULTATI ===\")\n",
        "print(\"Homework 4: 87.75% accuracy\")\n",
        "print(f\"Homework 5: {cnn_accuracy:.2f}% accuracy\")"
      ],
      "metadata": {
        "id": "M9NW_9NJ5ZUX",
        "outputId": "dfc30ac2-b01a-4e12-821c-8b4229ba7146",
        "colab": {
          "base_uri": "https://localhost:8080/"
        }
      },
      "execution_count": 38,
      "outputs": [
        {
          "output_type": "stream",
          "name": "stdout",
          "text": [
            "\n",
            "=== CONFRONTO RISULTATI ===\n",
            "Homework 4: 87.75% accuracy\n",
            "Homework 5: 91.87% accuracy\n"
          ]
        }
      ]
    }
  ],
  "metadata": {
    "colab": {
      "provenance": [],
      "include_colab_link": true
    },
    "kernelspec": {
      "display_name": "Python 3",
      "language": "python",
      "name": "python3"
    },
    "language_info": {
      "codemirror_mode": {
        "name": "ipython",
        "version": 3
      },
      "file_extension": ".py",
      "mimetype": "text/x-python",
      "name": "python",
      "nbconvert_exporter": "python",
      "pygments_lexer": "ipython3",
      "version": "3.8.12"
    }
  },
  "nbformat": 4,
  "nbformat_minor": 0
}