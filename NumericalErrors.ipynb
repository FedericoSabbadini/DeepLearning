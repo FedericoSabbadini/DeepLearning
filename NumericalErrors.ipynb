{
  "nbformat": 4,
  "nbformat_minor": 0,
  "metadata": {
    "colab": {
      "name": "numerical_errors.ipynb",
      "provenance": [],
      "include_colab_link": true
    },
    "kernelspec": {
      "display_name": "Python 3",
      "name": "python3"
    },
    "language_info": {
      "name": "python"
    }
  },
  "cells": [
    {
      "cell_type": "markdown",
      "metadata": {
        "id": "view-in-github",
        "colab_type": "text"
      },
      "source": [
        "<a href=\"https://colab.research.google.com/github/FedericoSabbadini/DeepLearning/blob/main/NumericalErrors.ipynb\" target=\"_parent\"><img src=\"https://colab.research.google.com/assets/colab-badge.svg\" alt=\"Open In Colab\"/></a>"
      ]
    },
    {
      "cell_type": "markdown",
      "metadata": {
        "id": "NHkLBO61H_IM"
      },
      "source": [
        "# Rounding and truncation errors"
      ]
    },
    {
      "cell_type": "markdown",
      "metadata": {
        "id": "VparFXTL0lNb"
      },
      "source": [
        "Adding a very small numb er to a larger one may have no eﬀect. This can cause large changes downstream:"
      ]
    },
    {
      "cell_type": "code",
      "metadata": {
        "id": "bTG6FgOCYzkf"
      },
      "source": [
        "import numpy as np\n",
        "import tensorflow as tf"
      ],
      "execution_count": 1,
      "outputs": []
    },
    {
      "cell_type": "code",
      "metadata": {
        "colab": {
          "base_uri": "https://localhost:8080/"
        },
        "id": "cNj-fRoEYW07",
        "outputId": "3ac5999d-8080-4e23-a478-0b9f03ca65f5"
      },
      "source": [
        "a = np.array([0., 1e-8]).astype('float32')\n",
        "a"
      ],
      "execution_count": 2,
      "outputs": [
        {
          "output_type": "execute_result",
          "data": {
            "text/plain": [
              "array([0.e+00, 1.e-08], dtype=float32)"
            ]
          },
          "metadata": {},
          "execution_count": 2
        }
      ]
    },
    {
      "cell_type": "code",
      "metadata": {
        "id": "fxQn13xp1KDy",
        "outputId": "d1f789f2-bc6f-4c54-cf12-235bb6572b60",
        "colab": {
          "base_uri": "https://localhost:8080/"
        }
      },
      "source": [
        "a+1"
      ],
      "execution_count": 3,
      "outputs": [
        {
          "output_type": "execute_result",
          "data": {
            "text/plain": [
              "array([1., 1.], dtype=float32)"
            ]
          },
          "metadata": {},
          "execution_count": 3
        }
      ]
    },
    {
      "cell_type": "markdown",
      "metadata": {
        "id": "csidO6Dh2Db0"
      },
      "source": [
        "##exp(x) overflows for large x"
      ]
    },
    {
      "cell_type": "code",
      "metadata": {
        "colab": {
          "base_uri": "https://localhost:8080/"
        },
        "id": "4buIuUeB1tJI",
        "scrolled": true,
        "outputId": "c3f85781-0238-4e8b-8cce-d4d2845165ef"
      },
      "source": [
        "x=88\n",
        "np.exp(x).astype('float32')"
      ],
      "execution_count": 4,
      "outputs": [
        {
          "output_type": "execute_result",
          "data": {
            "text/plain": [
              "np.float32(1.6516363e+38)"
            ]
          },
          "metadata": {},
          "execution_count": 4
        }
      ]
    },
    {
      "cell_type": "code",
      "metadata": {
        "id": "sQ0rujHC2Kr6",
        "outputId": "992e2f24-4bb7-418f-bf17-e5380e778711",
        "colab": {
          "base_uri": "https://localhost:8080/"
        }
      },
      "source": [
        "x=-100 #Check what happen at different values of x\n",
        "np.exp(x).astype('float32')"
      ],
      "execution_count": 5,
      "outputs": [
        {
          "output_type": "execute_result",
          "data": {
            "text/plain": [
              "np.float32(3.8e-44)"
            ]
          },
          "metadata": {},
          "execution_count": 5
        }
      ]
    },
    {
      "cell_type": "code",
      "source": [
        "x=709\n",
        "np.log(np.exp(x))"
      ],
      "metadata": {
        "colab": {
          "base_uri": "https://localhost:8080/"
        },
        "id": "12AQqi2hH7NY",
        "outputId": "40a9b254-ab87-4520-99dc-463aca32e170"
      },
      "execution_count": 29,
      "outputs": [
        {
          "output_type": "execute_result",
          "data": {
            "text/plain": [
              "np.float64(709.0)"
            ]
          },
          "metadata": {},
          "execution_count": 29
        }
      ]
    },
    {
      "cell_type": "markdown",
      "metadata": {
        "id": "XPk6kabb3NLc"
      },
      "source": [
        "log(0) = - inf"
      ]
    },
    {
      "cell_type": "code",
      "metadata": {
        "id": "VLE0UQT-272U",
        "outputId": "f80f3a4e-e97a-41b3-bd6d-89758b58da02",
        "colab": {
          "base_uri": "https://localhost:8080/"
        }
      },
      "source": [
        "np.log(0)"
      ],
      "execution_count": 6,
      "outputs": [
        {
          "output_type": "stream",
          "name": "stderr",
          "text": [
            "/tmp/ipython-input-2933082444.py:1: RuntimeWarning: divide by zero encountered in log\n",
            "  np.log(0)\n"
          ]
        },
        {
          "output_type": "execute_result",
          "data": {
            "text/plain": [
              "np.float64(-inf)"
            ]
          },
          "metadata": {},
          "execution_count": 6
        }
      ]
    },
    {
      "cell_type": "markdown",
      "metadata": {
        "id": "oGEhF8PpBymj"
      },
      "source": [
        "#log(sum(exp))\n",
        "Naive implementation\n",
        "Failure modes:\n",
        "• If any entry is very large, exp overflows\n",
        "• If all entries are very negative, all exps\n",
        "underflow... and then log is -inf\n",
        "Failure modes:\n",
        "• If any entry is very large, exp overflows\n",
        "• If all entries are very negative, all exps\n",
        "underflow... and then log is -inf"
      ]
    },
    {
      "cell_type": "code",
      "metadata": {
        "colab": {
          "base_uri": "https://localhost:8080/"
        },
        "id": "ibPBO2pC3M3N",
        "outputId": "021e3c4d-9f4c-4806-bb84-d5936ab6c3c7"
      },
      "source": [
        "a = np.array([0,88]).astype('float32')\n",
        "np.log(np.sum(np.exp(a)))"
      ],
      "execution_count": 7,
      "outputs": [
        {
          "output_type": "execute_result",
          "data": {
            "text/plain": [
              "np.float32(88.0)"
            ]
          },
          "metadata": {},
          "execution_count": 7
        }
      ]
    },
    {
      "cell_type": "code",
      "metadata": {
        "colab": {
          "base_uri": "https://localhost:8080/"
        },
        "id": "4mKmSRbzBymk",
        "outputId": "9336f696-21cd-4e80-f144-3eb3717c838f"
      },
      "source": [
        "a = np.array([ -100]).astype('float32')\n",
        "np.exp(a)"
      ],
      "execution_count": 8,
      "outputs": [
        {
          "output_type": "execute_result",
          "data": {
            "text/plain": [
              "array([3.8e-44], dtype=float32)"
            ]
          },
          "metadata": {},
          "execution_count": 8
        }
      ]
    },
    {
      "cell_type": "code",
      "metadata": {
        "id": "LolcgnhKMxvH",
        "outputId": "05a622bb-f50b-480e-f934-6ed7993f1d0a",
        "colab": {
          "base_uri": "https://localhost:8080/"
        }
      },
      "source": [
        "np.log(np.sum(np.exp(a)))"
      ],
      "execution_count": 9,
      "outputs": [
        {
          "output_type": "execute_result",
          "data": {
            "text/plain": [
              "np.float32(-99.98309)"
            ]
          },
          "metadata": {},
          "execution_count": 9
        }
      ]
    },
    {
      "cell_type": "markdown",
      "metadata": {
        "id": "V1WzwJUzBymu"
      },
      "source": [
        "Stable version"
      ]
    },
    {
      "cell_type": "code",
      "metadata": {
        "colab": {
          "base_uri": "https://localhost:8080/"
        },
        "id": "2pBJa4AeBymv",
        "outputId": "a22dc39e-ad01-4c36-cd2e-9941b791d385"
      },
      "source": [
        "a = np.array([0,100]).astype('float32')\n",
        "mx=np.max(a)\n",
        "safe_array=a-mx\n",
        "log_sum_exp= mx + np.log(np.sum(np.exp(safe_array)))\n",
        "log_sum_exp"
      ],
      "execution_count": 10,
      "outputs": [
        {
          "output_type": "execute_result",
          "data": {
            "text/plain": [
              "np.float32(100.0)"
            ]
          },
          "metadata": {},
          "execution_count": 10
        }
      ]
    },
    {
      "cell_type": "markdown",
      "metadata": {
        "id": "GSw4fRoOBym1"
      },
      "source": [
        "Built in versions"
      ]
    },
    {
      "cell_type": "code",
      "metadata": {
        "colab": {
          "base_uri": "https://localhost:8080/"
        },
        "id": "PnPNWdQPBym2",
        "outputId": "9540dd52-9398-4c6d-a41a-f48d8d8ffe6a"
      },
      "source": [
        "np.logaddexp.reduce(a)"
      ],
      "execution_count": 11,
      "outputs": [
        {
          "output_type": "execute_result",
          "data": {
            "text/plain": [
              "np.float32(100.0)"
            ]
          },
          "metadata": {},
          "execution_count": 11
        }
      ]
    },
    {
      "cell_type": "code",
      "metadata": {
        "colab": {
          "base_uri": "https://localhost:8080/"
        },
        "id": "btzXJFocBym5",
        "outputId": "5e831c06-a333-479e-be53-86571d9f6cd3"
      },
      "source": [
        "from scipy.special import logsumexp\n",
        "logsumexp(a)"
      ],
      "execution_count": 12,
      "outputs": [
        {
          "output_type": "execute_result",
          "data": {
            "text/plain": [
              "np.float32(100.0)"
            ]
          },
          "metadata": {},
          "execution_count": 12
        }
      ]
    },
    {
      "cell_type": "code",
      "metadata": {
        "id": "9nyjwNnYOuOP",
        "outputId": "432dc7b1-23f5-4116-e7d8-baa1e4ba6e1c",
        "colab": {
          "base_uri": "https://localhost:8080/"
        }
      },
      "source": [
        "tf.reduce_logsumexp(a)"
      ],
      "execution_count": 13,
      "outputs": [
        {
          "output_type": "execute_result",
          "data": {
            "text/plain": [
              "<tf.Tensor: shape=(), dtype=float32, numpy=100.0>"
            ]
          },
          "metadata": {},
          "execution_count": 13
        }
      ]
    }
  ]
}